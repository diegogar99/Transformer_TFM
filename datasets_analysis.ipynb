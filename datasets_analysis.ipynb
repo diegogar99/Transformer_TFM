{
 "cells": [
  {
   "cell_type": "code",
   "execution_count": null,
   "metadata": {},
   "outputs": [],
   "source": [
    "from datasets import load_dataset\n",
    "from multiprocessing import Pool\n",
    "import re\n",
    "from nltk.corpus import stopwords\n",
    "from nltk.tokenize import word_tokenize\n",
    "#from spellchecker import SpellChecker\n",
    "import ftfy\n",
    "import unicodedata\n",
    "from pathlib import Path\n"
   ]
  },
  {
   "cell_type": "markdown",
   "metadata": {},
   "source": [
    "# 1. Lectura y split "
   ]
  },
  {
   "cell_type": "code",
   "execution_count": 2,
   "metadata": {},
   "outputs": [],
   "source": [
    "#wget https://raw.githubusercontent.com/karpathy/char-rnn/master/data/tinyshakespeare/input.txt -O tinyshakespeare.txt\n",
    "\n",
    "dataset = load_dataset(\"text\", data_files={\"raw\": \"./datasets/tinyshakespeare.txt\"})\n",
    "\n",
    "# Dividir en train (90%) y test (10%)\n",
    "train_test = dataset[\"raw\"].train_test_split(test_size=0.1, seed=42)\n",
    "\n",
    "# Dividir train en train (90%) y validation (10%)\n",
    "train_valid = train_test[\"train\"].train_test_split(test_size=0.1, seed=42)\n",
    "\n",
    "# Reunir en un DatasetDict\n",
    "tinishakespeare = {\n",
    "    \"train\": train_valid[\"train\"],\n",
    "    \"validation\": train_valid[\"test\"],\n",
    "    \"test\": train_test[\"test\"]\n",
    "}\n"
   ]
  },
  {
   "cell_type": "code",
   "execution_count": null,
   "metadata": {},
   "outputs": [],
   "source": [
    "tinishakespeare"
   ]
  },
  {
   "cell_type": "code",
   "execution_count": null,
   "metadata": {},
   "outputs": [],
   "source": [
    "wikitext2 = load_dataset(\"Salesforce/wikitext\", \"wikitext-2-raw-v1\")"
   ]
  },
  {
   "cell_type": "code",
   "execution_count": null,
   "metadata": {},
   "outputs": [],
   "source": [
    "wikitext2[\"train\"][0:100]"
   ]
  },
  {
   "cell_type": "markdown",
   "metadata": {},
   "source": [
    "# 2. Tokenización y limpieza"
   ]
  },
  {
   "cell_type": "code",
   "execution_count": null,
   "metadata": {},
   "outputs": [],
   "source": [
    "dataset = tinishakespeare[\"train\"]\n",
    "dataset[\"text\"]"
   ]
  },
  {
   "cell_type": "code",
   "execution_count": null,
   "metadata": {},
   "outputs": [],
   "source": [
    "'''# Limpieza en paralelo\n",
    "def parallel_process_text(data, cleaning_function, num_workers):\n",
    "    with Pool(num_workers) as pool:\n",
    "        cleaned_data = pool.map(cleaning_function, data)\n",
    "    return cleaned_data'''"
   ]
  },
  {
   "cell_type": "code",
   "execution_count": null,
   "metadata": {},
   "outputs": [],
   "source": [
    "'''# Elimina etiquetas HTML y caracteres especiales\n",
    "def remove_html_tags(text):\n",
    "    clean_text = re.sub(r'<.*?>', '', text)\n",
    "    return clean_text\n",
    "\n",
    "def remove_special_characters(text):\n",
    "    clean_text = re.sub(r'[^a-zA-Z0-9\\s]', '', text)\n",
    "    return clean_text\n",
    "\n",
    "# Pasa a minúsculas\n",
    "def convert_to_lowercase(text):\n",
    "    lowercased_text = text.lower()\n",
    "    return lowercased_text\n",
    "\n",
    "# Elimina stop words en inglés\n",
    "def remove_stopwords(tokens):\n",
    "    stop_words = set(stopwords.words('english'))\n",
    "    filtered_tokens = [word for word in tokens if word not in stop_words]\n",
    "    return filtered_tokens\n",
    "\n",
    "# Elimina duplicados\n",
    "def remove_duplicates(texts):\n",
    "    unique_texts = list(set(texts))\n",
    "    return unique_texts\n",
    "\n",
    "# Arregla problemas de encoding\n",
    "def fix_encoding(text):\n",
    "    try:\n",
    "        text = ftfy.fix_text(text)\n",
    "        decoded_text = text.encode('utf-8').decode('utf-8')\n",
    "        \n",
    "    except UnicodeDecodeError:\n",
    "        decoded_text = 'Encoding Error'\n",
    "    return decoded_text\n",
    "\n",
    "# Elimina varios espacios en blanco\n",
    "def remove_whitespace(text):\n",
    "    cleaned_text = ' '.join(text.split())\n",
    "    return cleaned_text'''"
   ]
  },
  {
   "cell_type": "code",
   "execution_count": null,
   "metadata": {},
   "outputs": [],
   "source": [
    "'''from nltk.tokenize import word_tokenize\n",
    "\n",
    "def tokenize_text(text):\n",
    "    tokens = word_tokenize(text)\n",
    "    return tokens'''"
   ]
  },
  {
   "cell_type": "code",
   "execution_count": null,
   "metadata": {},
   "outputs": [],
   "source": [
    "'''\n",
    "from nltk.stem import PorterStemmer\n",
    "from nltk.stem import WordNetLemmatizer\n",
    "\n",
    "def stem_text(tokens):\n",
    "    stemmer = PorterStemmer()\n",
    "    stemmed_tokens = [stemmer.stem(word) for word in tokens]\n",
    "    return stemmed_tokens\n",
    "\n",
    "def lemmatize_text(tokens):\n",
    "    lemmatizer = WordNetLemmatizer()\n",
    "    lemmatized_tokens = [lemmatizer.lemmatize(word) for word in tokens]\n",
    "    return lemmatized_tokens'''"
   ]
  },
  {
   "cell_type": "code",
   "execution_count": null,
   "metadata": {},
   "outputs": [],
   "source": [
    "'''\n",
    "# Corrige palabras mas escritas. No se aplica pues el texto ya está limpio y  puede corregir de más\n",
    "def correct_spelling(text):\n",
    "    spell = SpellChecker()\n",
    "    tokens = word_tokenize(text)\n",
    "    corrected_tokens = [spell.correction(word) for word in tokens]\n",
    "    corrected_text = ' '.join(corrected_tokens)\n",
    "    return corrected_text'''"
   ]
  },
  {
   "cell_type": "code",
   "execution_count": null,
   "metadata": {},
   "outputs": [],
   "source": [
    "'''from langdetect import detect\n",
    "\n",
    "def detect_language(text):\n",
    "    try:\n",
    "        language = detect(text)\n",
    "    except:\n",
    "        language = 'unknown'\n",
    "    return language'''"
   ]
  },
  {
   "cell_type": "code",
   "execution_count": 13,
   "metadata": {},
   "outputs": [],
   "source": [
    "\n",
    "def light_clean_fn(example):\n",
    "    t = example[\"text\"]\n",
    "    t = ftfy.fix_text(t)\n",
    "    t = unicodedata.normalize(\"NFKC\", t)\n",
    "    t = (t.replace(\"“\", '\"').replace(\"”\", '\"').replace(\"’\", \"'\")\n",
    "           .replace(\"–\", \"-\").replace(\"—\", \"-\"))\n",
    "    t = re.sub(r\"[ \\t]+\", \" \", t)\n",
    "    t = re.sub(r\"\\s*\\n\\s*\", \"\\n\", t)\n",
    "    t = t.strip(\" \\n\")\n",
    "    return {\"text\": t}\n"
   ]
  },
  {
   "cell_type": "code",
   "execution_count": 14,
   "metadata": {},
   "outputs": [],
   "source": [
    "from datasets import DatasetDict\n",
    "cleaned = DatasetDict({\n",
    "    'train': tinishakespeare['train'].map(light_clean_fn, num_proc=4),\n",
    "    'validation': tinishakespeare['validation'].map(light_clean_fn, num_proc=4),\n",
    "    'test': tinishakespeare['test'].map(light_clean_fn, num_proc=4),\n",
    "})\n"
   ]
  },
  {
   "cell_type": "code",
   "execution_count": null,
   "metadata": {},
   "outputs": [],
   "source": [
    "cleaned[\"train\"][\"text\"]"
   ]
  },
  {
   "cell_type": "code",
   "execution_count": 16,
   "metadata": {},
   "outputs": [],
   "source": [
    "# Escribimos SOLO el train a un archivo para entrenar SP\n",
    "\n",
    "train_path = Path(\"./datasets/shakespeare_clean_train.txt\")\n",
    "with train_path.open(\"w\", encoding=\"utf-8\") as f:\n",
    "    for line in cleaned[\"train\"][\"text\"]:\n",
    "        if line.strip():\n",
    "            f.write(line.strip() + \"\\n\")\n"
   ]
  },
  {
   "cell_type": "code",
   "execution_count": null,
   "metadata": {},
   "outputs": [],
   "source": [
    "import sentencepiece as spm\n",
    "\n",
    "spm.SentencePieceTrainer.Train(\n",
    "    input=\"./datasets/shakespeare_clean_train.txt\", # Corpus de train, se pueden pasar varios\n",
    "    model_prefix=\"bpe_model_shakespeare\",        # generaprefijo modelos generados:  bpe_model_shakespeare.model y bpe_model_shakespeare.vocab\n",
    "    vocab_size=16000,                 # 8k–32k para corpora pequeños, 32 k para wikitext2\n",
    "    model_type=\"bpe\",\n",
    "    character_coverage=1.0,           # inglés\n",
    "    byte_fallback=True,               # evita UNK en chars raros\n",
    "    normalization_rule_name=\"nfkc\",  # Normalización previa\n",
    "    remove_extra_whitespaces=True, # colapsa espacios extra\n",
    "    unk_id=0, bos_id=1, eos_id=2, pad_id=3 # <bos> es el inicio de una secuencia (-1 se deshabilita), <eos> el final, <unk> desconocido, <pad> padding\n",
    ")\n"
   ]
  },
  {
   "cell_type": "code",
   "execution_count": 18,
   "metadata": {},
   "outputs": [
    {
     "ename": "OSError",
     "evalue": "Not found: \"bpe_model_shakespeare.model\": No such file or directory Error #2",
     "output_type": "error",
     "traceback": [
      "\u001b[31m---------------------------------------------------------------------------\u001b[39m",
      "\u001b[31mOSError\u001b[39m                                   Traceback (most recent call last)",
      "\u001b[36mCell\u001b[39m\u001b[36m \u001b[39m\u001b[32mIn[18]\u001b[39m\u001b[32m, line 2\u001b[39m\n\u001b[32m      1\u001b[39m \u001b[38;5;28;01mimport\u001b[39;00m\u001b[38;5;250m \u001b[39m\u001b[34;01msentencepiece\u001b[39;00m\u001b[38;5;250m \u001b[39m\u001b[38;5;28;01mas\u001b[39;00m\u001b[38;5;250m \u001b[39m\u001b[34;01mspm\u001b[39;00m\n\u001b[32m----> \u001b[39m\u001b[32m2\u001b[39m sp = \u001b[43mspm\u001b[49m\u001b[43m.\u001b[49m\u001b[43mSentencePieceProcessor\u001b[49m\u001b[43m(\u001b[49m\u001b[43mmodel_file\u001b[49m\u001b[43m=\u001b[49m\u001b[33;43m\"\u001b[39;49m\u001b[33;43mbpe_model_shakespeare.model\u001b[39;49m\u001b[33;43m\"\u001b[39;49m\u001b[43m)\u001b[49m\n\u001b[32m      3\u001b[39m \u001b[38;5;28;01mif\u001b[39;00m sp.is_valid():\n\u001b[32m      4\u001b[39m     \u001b[38;5;28mprint\u001b[39m(\u001b[33m\"\u001b[39m\u001b[33mEl modelo de SentencePiece es válido.\u001b[39m\u001b[33m\"\u001b[39m)\n",
      "\u001b[36mFile \u001b[39m\u001b[32m~/root/TFM/Transformer_TFM/.venv/lib/python3.12/site-packages/sentencepiece/__init__.py:468\u001b[39m, in \u001b[36mSentencePieceProcessor.Init\u001b[39m\u001b[34m(self, model_file, model_proto, out_type, add_bos, add_eos, reverse, emit_unk_piece, enable_sampling, nbest_size, alpha, num_threads)\u001b[39m\n\u001b[32m    466\u001b[39m \u001b[38;5;28mself\u001b[39m._num_threads = num_threads\n\u001b[32m    467\u001b[39m \u001b[38;5;28;01mif\u001b[39;00m model_file \u001b[38;5;129;01mor\u001b[39;00m model_proto:\n\u001b[32m--> \u001b[39m\u001b[32m468\u001b[39m   \u001b[38;5;28;43mself\u001b[39;49m\u001b[43m.\u001b[49m\u001b[43mLoad\u001b[49m\u001b[43m(\u001b[49m\u001b[43mmodel_file\u001b[49m\u001b[43m=\u001b[49m\u001b[43mmodel_file\u001b[49m\u001b[43m,\u001b[49m\u001b[43m \u001b[49m\u001b[43mmodel_proto\u001b[49m\u001b[43m=\u001b[49m\u001b[43mmodel_proto\u001b[49m\u001b[43m)\u001b[49m\n",
      "\u001b[36mFile \u001b[39m\u001b[32m~/root/TFM/Transformer_TFM/.venv/lib/python3.12/site-packages/sentencepiece/__init__.py:961\u001b[39m, in \u001b[36mSentencePieceProcessor.Load\u001b[39m\u001b[34m(self, model_file, model_proto)\u001b[39m\n\u001b[32m    959\u001b[39m \u001b[38;5;28;01mif\u001b[39;00m model_proto:\n\u001b[32m    960\u001b[39m   \u001b[38;5;28;01mreturn\u001b[39;00m \u001b[38;5;28mself\u001b[39m.LoadFromSerializedProto(model_proto)\n\u001b[32m--> \u001b[39m\u001b[32m961\u001b[39m \u001b[38;5;28;01mreturn\u001b[39;00m \u001b[38;5;28;43mself\u001b[39;49m\u001b[43m.\u001b[49m\u001b[43mLoadFromFile\u001b[49m\u001b[43m(\u001b[49m\u001b[43mmodel_file\u001b[49m\u001b[43m)\u001b[49m\n",
      "\u001b[36mFile \u001b[39m\u001b[32m~/root/TFM/Transformer_TFM/.venv/lib/python3.12/site-packages/sentencepiece/__init__.py:316\u001b[39m, in \u001b[36mSentencePieceProcessor.LoadFromFile\u001b[39m\u001b[34m(self, arg)\u001b[39m\n\u001b[32m    315\u001b[39m \u001b[38;5;28;01mdef\u001b[39;00m\u001b[38;5;250m \u001b[39m\u001b[34mLoadFromFile\u001b[39m(\u001b[38;5;28mself\u001b[39m, arg):\n\u001b[32m--> \u001b[39m\u001b[32m316\u001b[39m     \u001b[38;5;28;01mreturn\u001b[39;00m \u001b[43m_sentencepiece\u001b[49m\u001b[43m.\u001b[49m\u001b[43mSentencePieceProcessor_LoadFromFile\u001b[49m\u001b[43m(\u001b[49m\u001b[38;5;28;43mself\u001b[39;49m\u001b[43m,\u001b[49m\u001b[43m \u001b[49m\u001b[43marg\u001b[49m\u001b[43m)\u001b[49m\n",
      "\u001b[31mOSError\u001b[39m: Not found: \"bpe_model_shakespeare.model\": No such file or directory Error #2"
     ]
    }
   ],
   "source": [
    "import sentencepiece as spm\n",
    "import os\n",
    "if os.path.exists(\"bpe_model_shakespeare.model\"):\n",
    "    print(\"Existee\")\n"
   ]
  },
  {
   "cell_type": "code",
   "execution_count": null,
   "metadata": {},
   "outputs": [],
   "source": [
    "import sentencepiece as spm\n",
    "sp = spm.SentencePieceProcessor(model_file=\"bpe_model_shakespeare.model\")\n",
    "\n",
    "def sp_encode_batch_train(batch):\n",
    "    # BPE-dropout: sampling activado\n",
    "    ids = [\n",
    "        [sp.bos_id()] +\n",
    "        sp.encode(t, out_type=int, enable_sampling=True, nbest_size=-1, alpha=0.1) +\n",
    "        [sp.eos_id()]\n",
    "        for t in batch[\"text\"]\n",
    "    ]\n",
    "    attn = [[1]*len(x) for x in ids]\n",
    "    return {\"input_ids\": ids, \"attention_mask\": attn}\n",
    "\n",
    "def sp_encode_batch_eval(batch):\n",
    "    # determinista para val/test\n",
    "    ids = [\n",
    "        [sp.bos_id()] + sp.encode(t, out_type=int) + [sp.eos_id()]\n",
    "        for t in batch[\"text\"]\n",
    "    ]\n",
    "    attn = [[1]*len(x) for x in ids]\n",
    "    return {\"input_ids\": ids, \"attention_mask\": attn}\n",
    "\n",
    "tokenized_train = cleaned[\"train\"].map(sp_encode_batch_train, batched=True, num_proc=4, remove_columns=[\"text\"])\n",
    "tokenized_val   = cleaned[\"validation\"].map(sp_encode_batch_eval, batched=True, num_proc=4, remove_columns=[\"text\"])\n",
    "tokenized_test  = cleaned[\"test\"].map(sp_encode_batch_eval, batched=True, num_proc=4, remove_columns=[\"text\"])\n"
   ]
  },
  {
   "cell_type": "code",
   "execution_count": null,
   "metadata": {},
   "outputs": [],
   "source": [
    "# https://github.com/google/sentencepiece\n",
    "sp = spm.SentencePieceProcessor(model_file=\"bpe_model.model\")\n",
    "\n",
    "def sp_encode_batch(batch, add_bos_eos=True):\n",
    "    if add_bos_eos:\n",
    "        ids = [[sp.bos_id()] + sp.encode(t, out_type=int) + [sp.eos_id()] for t in batch[\"text\"]]\n",
    "    else:\n",
    "        ids = [sp.encode(t, out_type=int) for t in batch[\"text\"]]\n",
    "    attn = [[1]*len(x) for x in ids]\n",
    "    return {\"input_ids\": ids, \"attention_mask\": attn}\n",
    "\n",
    "tokenized = cleaned.map(\n",
    "    sp_encode_batch,\n",
    "    batched=True,\n",
    "    num_proc=4,\n",
    "    remove_columns=[\"text\"]\n",
    ")\n",
    "\n",
    "print(tokenized)"
   ]
  }
 ],
 "metadata": {
  "kernelspec": {
   "display_name": ".venv",
   "language": "python",
   "name": "python3"
  },
  "language_info": {
   "codemirror_mode": {
    "name": "ipython",
    "version": 3
   },
   "file_extension": ".py",
   "mimetype": "text/x-python",
   "name": "python",
   "nbconvert_exporter": "python",
   "pygments_lexer": "ipython3",
   "version": "3.12.3"
  }
 },
 "nbformat": 4,
 "nbformat_minor": 2
}
